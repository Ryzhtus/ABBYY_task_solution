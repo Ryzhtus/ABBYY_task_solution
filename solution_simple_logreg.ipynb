{
 "cells": [
  {
   "cell_type": "markdown",
   "metadata": {},
   "source": [
    "## Решение задания от ABBYY (Шкунков Арсений)"
   ]
  },
  {
   "cell_type": "markdown",
   "metadata": {},
   "source": [
    "В этом jupyter-ноутбуке содержится простое прокомментированное решение, с реализованными функциями predict() и predict_once().\n",
    "Чтобы быстро все запустить и проверить работоспособность."
   ]
  },
  {
   "cell_type": "markdown",
   "metadata": {},
   "source": [
    "### План работы\n",
    "\n",
    "Возьмем большой датасет Old Newspaper - https://www.kaggle.com/alvations/old-newspapers, выберем из него записи на 9-ти языках ('English', 'Russian', 'German', 'Indonesian', 'Chinese (Traditional)', 'Ukranian', 'Korean', 'Turkish', 'Polish'). \n",
    "Далее сделаем выборку (по 30 тысяч записей на язык) и добавим еще 6 языков (суммарно: . Далее проведем предобработку (lowercase, токенизация), и воспользуемся TF-IFD. Обучим LogReg и kNN, сравним результаты. Напишем фукнции predict() и predict_once()"
   ]
  },
  {
   "cell_type": "markdown",
   "metadata": {},
   "source": [
    "### Загрузка и обработка данных"
   ]
  },
  {
   "cell_type": "code",
   "execution_count": 1,
   "metadata": {},
   "outputs": [],
   "source": [
    "import numpy as np\n",
    "import pandas as pd"
   ]
  },
  {
   "cell_type": "markdown",
   "metadata": {},
   "source": [
    "Во время работы на компьютере я использовал весь датасет old_newspaper.tsv, но так как он весит 6Gb, я не могу его полностью загрузить на GitHub.\n",
    "Вместо него вы можете использовать его более легкую версию old_newspaper_light.csv из моего репозитория (тем не менее, код для его создания из исходного датасета есть в конце ноутбука), либо скачать оригинал по ссылке с Kaggle https://www.kaggle.com/alvations/old-newspapers\n",
    "Далее я буду использовать облегченную версию"
   ]
  },
  {
   "cell_type": "code",
   "execution_count": 6,
   "metadata": {},
   "outputs": [],
   "source": [
    "corpus = pd.read_csv('data/old_newspaper_light.csv')"
   ]
  },
  {
   "cell_type": "markdown",
   "metadata": {},
   "source": [
    "Посмотрим на данные"
   ]
  },
  {
   "cell_type": "code",
   "execution_count": 7,
   "metadata": {},
   "outputs": [
    {
     "data": {
      "text/html": [
       "<div>\n",
       "<style scoped>\n",
       "    .dataframe tbody tr th:only-of-type {\n",
       "        vertical-align: middle;\n",
       "    }\n",
       "\n",
       "    .dataframe tbody tr th {\n",
       "        vertical-align: top;\n",
       "    }\n",
       "\n",
       "    .dataframe thead th {\n",
       "        text-align: right;\n",
       "    }\n",
       "</style>\n",
       "<table border=\"1\" class=\"dataframe\">\n",
       "  <thead>\n",
       "    <tr style=\"text-align: right;\">\n",
       "      <th></th>\n",
       "      <th>Language</th>\n",
       "      <th>Text</th>\n",
       "    </tr>\n",
       "  </thead>\n",
       "  <tbody>\n",
       "    <tr>\n",
       "      <th>0</th>\n",
       "      <td>Chinese (Traditional)</td>\n",
       "      <td>方道生指，梁頌學的腦大靜脈由於受擠壓，之前有大約三分一的腦靜脈閉塞，問題嚴重，而菲國醫生用了...</td>\n",
       "    </tr>\n",
       "    <tr>\n",
       "      <th>1</th>\n",
       "      <td>Chinese (Traditional)</td>\n",
       "      <td>關於「建材下鄉」在市場上已傳聞許久。從去年9月起，中國相關行業協會和組織就已經開始為「建材下...</td>\n",
       "    </tr>\n",
       "    <tr>\n",
       "      <th>2</th>\n",
       "      <td>Chinese (Traditional)</td>\n",
       "      <td>報告說：“調查結果，令人非常失望。沒有一家企業能獲得最高的五星，近46%的企業處於零級。僅有...</td>\n",
       "    </tr>\n",
       "    <tr>\n",
       "      <th>3</th>\n",
       "      <td>Chinese (Traditional)</td>\n",
       "      <td>女人唔易做，美人更不易為。保養完美無瑕的外貌很倦人，剛顧及對抗臉上皺紋，又說頸紋更加暴露年紀...</td>\n",
       "    </tr>\n",
       "    <tr>\n",
       "      <th>4</th>\n",
       "      <td>Chinese (Traditional)</td>\n",
       "      <td>王奇說，由於很多人擔心課堂上就是用來分組玩牌，所以他只安排了非常少的實踐內容，大部分時間是講...</td>\n",
       "    </tr>\n",
       "  </tbody>\n",
       "</table>\n",
       "</div>"
      ],
      "text/plain": [
       "                Language                                               Text\n",
       "0  Chinese (Traditional)  方道生指，梁頌學的腦大靜脈由於受擠壓，之前有大約三分一的腦靜脈閉塞，問題嚴重，而菲國醫生用了...\n",
       "1  Chinese (Traditional)  關於「建材下鄉」在市場上已傳聞許久。從去年9月起，中國相關行業協會和組織就已經開始為「建材下...\n",
       "2  Chinese (Traditional)  報告說：“調查結果，令人非常失望。沒有一家企業能獲得最高的五星，近46%的企業處於零級。僅有...\n",
       "3  Chinese (Traditional)  女人唔易做，美人更不易為。保養完美無瑕的外貌很倦人，剛顧及對抗臉上皺紋，又說頸紋更加暴露年紀...\n",
       "4  Chinese (Traditional)  王奇說，由於很多人擔心課堂上就是用來分組玩牌，所以他只安排了非常少的實踐內容，大部分時間是講..."
      ]
     },
     "execution_count": 7,
     "metadata": {},
     "output_type": "execute_result"
    }
   ],
   "source": [
    "corpus.head()"
   ]
  },
  {
   "cell_type": "code",
   "execution_count": 13,
   "metadata": {},
   "outputs": [
    {
     "name": "stdout",
     "output_type": "stream",
     "text": [
      "<class 'pandas.core.frame.DataFrame'>\n",
      "RangeIndex: 300000 entries, 0 to 299999\n",
      "Data columns (total 2 columns):\n",
      " #   Column    Non-Null Count   Dtype \n",
      "---  ------    --------------   ----- \n",
      " 0   Language  300000 non-null  object\n",
      " 1   Text      300000 non-null  object\n",
      "dtypes: object(2)\n",
      "memory usage: 4.6+ MB\n"
     ]
    }
   ],
   "source": [
    "corpus.info()"
   ]
  },
  {
   "cell_type": "markdown",
   "metadata": {},
   "source": [
    "### Преобработка данных, токенизация и TF-IDF"
   ]
  },
  {
   "cell_type": "code",
   "execution_count": 26,
   "metadata": {},
   "outputs": [],
   "source": [
    "from nltk.tokenize import word_tokenize\n",
    "from sklearn.feature_extraction.text import TfidfVectorizer\n",
    "from sklearn.linear_model import LogisticRegression\n",
    "from sklearn.metrics import classification_report, accuracy_score, f1_score\n",
    "import matplotlib.pyplot as plt"
   ]
  },
  {
   "cell_type": "markdown",
   "metadata": {},
   "source": [
    "Посмотрим на общее количество строк для каждого языка."
   ]
  },
  {
   "cell_type": "code",
   "execution_count": 11,
   "metadata": {},
   "outputs": [
    {
     "data": {
      "image/png": "[encoded data removed]",
      "text/plain": [
       "<Figure size 432x288 with 1 Axes>"
      ]
     },
     "metadata": {
      "needs_background": "light"
     },
     "output_type": "display_data"
    }
   ],
   "source": [
    "plt.hist(corpus['Language'])\n",
    "plt.title('Количество записей на каждый из языков')\n",
    "plt.show()"
   ]
  },
  {
   "cell_type": "markdown",
   "metadata": {},
   "source": [
    "Обработаем данные. Уберем лишние знаки, приведем все к нижнему регистру и разобьем каждую строку на токены. Далее разметим строки по принципу: 1 - русский язык, 0 - другие языки."
   ]
  },
  {
   "cell_type": "code",
   "execution_count": 14,
   "metadata": {},
   "outputs": [],
   "source": [
    "import string\n",
    "\n",
    "corpus['Text'] = corpus['Text'].replace(r'[{}]'.format(string.punctuation), '', regex=True)\n",
    "corpus['Text'] = [text.lower() for text in corpus['Text']]\n",
    "corpus['Text'] = [word_tokenize(text) for text in corpus['Text']]"
   ]
  },
  {
   "cell_type": "code",
   "execution_count": 15,
   "metadata": {},
   "outputs": [
    {
     "data": {
      "text/plain": [
       "Russian                  60000\n",
       "Ukranian                 30000\n",
       "Korean                   30000\n",
       "English                  30000\n",
       "Chinese (Traditional)    30000\n",
       "German                   30000\n",
       "Polish                   30000\n",
       "Indonesian               30000\n",
       "Turkish                  30000\n",
       "Name: Language, dtype: int64"
      ]
     },
     "execution_count": 15,
     "metadata": {},
     "output_type": "execute_result"
    }
   ],
   "source": [
    "corpus.reset_index(inplace=True)\n",
    "corpus['Language'].value_counts()"
   ]
  },
  {
   "cell_type": "code",
   "execution_count": 16,
   "metadata": {},
   "outputs": [],
   "source": [
    "corpus.loc[corpus['Language'] == \"Russian\", \"Language\"] = 1\n",
    "corpus.loc[corpus['Language'] != 1, \"Language\"] = 0\n",
    "\n",
    "corpus.drop(corpus.columns[0], axis=1, inplace=True)\n",
    "corpus = corpus.sample(frac=1).reset_index(drop=True)\n",
    "corpus = corpus.astype({\"Text\": str})"
   ]
  },
  {
   "cell_type": "markdown",
   "metadata": {},
   "source": [
    "Разобьем обработанные данные на train и test и загрузим в TF-IDF-Vectorizer. Далее создадим модели логистической регрессии и kNN, и обучим их на векторах преобразованных с помощью TF-IDF"
   ]
  },
  {
   "cell_type": "code",
   "execution_count": 17,
   "metadata": {},
   "outputs": [],
   "source": [
    "X_train, X_test, y_train, y_test = model_selection.train_test_split(corpus['Text'], corpus['Language'], test_size=0.3)\n",
    "\n",
    "y_train = y_train.astype('int')\n",
    "y_test = y_test.astype('int')"
   ]
  },
  {
   "cell_type": "code",
   "execution_count": 18,
   "metadata": {},
   "outputs": [],
   "source": [
    "Tfidf_vect = TfidfVectorizer(max_features=25000)\n",
    "Tfidf_vect.fit(corpus['Text'])\n",
    "X_train_Tfidf = Tfidf_vect.transform(X_train)\n",
    "X_test_Tfidf = Tfidf_vect.transform(X_test)"
   ]
  },
  {
   "cell_type": "code",
   "execution_count": 23,
   "metadata": {},
   "outputs": [],
   "source": [
    "model_logreg = LogisticRegression(random_state=42)\n",
    "model_logreg.fit(X_train_Tfidf, y_train)\n",
    "\n",
    "logreg_pred = model_logreg.predict(X_test_Tfidf)\n",
    "logreg_pred = logreg_pred.astype('int')"
   ]
  },
  {
   "cell_type": "markdown",
   "metadata": {},
   "source": [
    "Посчитаем метрики и выведем результат"
   ]
  },
  {
   "cell_type": "code",
   "execution_count": 27,
   "metadata": {},
   "outputs": [
    {
     "name": "stdout",
     "output_type": "stream",
     "text": [
      "Classification Report LogReg\n",
      "              precision    recall  f1-score   support\n",
      "\n",
      "           0       0.98      1.00      0.99     71869\n",
      "           1       1.00      0.93      0.96     18131\n",
      "\n",
      "    accuracy                           0.98     90000\n",
      "   macro avg       0.99      0.96      0.98     90000\n",
      "weighted avg       0.98      0.98      0.98     90000\n",
      "\n",
      "Accuracy LogReg: 0.9845\n",
      "F1-Score LogReg: 0.9601599314579466\n"
     ]
    }
   ],
   "source": [
    "print('Classification Report LogReg')\n",
    "print(classification_report(y_test, logreg_pred))\n",
    "\n",
    "print('Accuracy LogReg:', accuracy_score(y_test, logreg_pred))\n",
    "print('F1-Score LogReg:', f1_score(y_test, logreg_pred))"
   ]
  },
  {
   "cell_type": "markdown",
   "metadata": {},
   "source": [
    "Из метрик видно, что результат у LogReg показывает очень хороший результат.\n"
   ]
  },
  {
   "cell_type": "markdown",
   "metadata": {},
   "source": [
    "Напишем функции predict() и predict_once()"
   ]
  },
  {
   "cell_type": "code",
   "execution_count": 33,
   "metadata": {},
   "outputs": [],
   "source": [
    "import os\n",
    "\n",
    "def predict(path: str):\n",
    "    # функция предсказания, path - путь к папке с текстами\n",
    "    directory = os.listdir(path)\n",
    "    directory = sorted(directory, key=lambda x: int(x[:-4]))\n",
    "    predictions = []\n",
    "\n",
    "    for file in directory:\n",
    "        open_file = open(path + '/' + file, 'r+')\n",
    "        read_file = open_file.read()\n",
    "        answer = predict_once(read_file)\n",
    "        predictions.append(answer)\n",
    "\n",
    "    data_for_csv = {'File Name': directory, 'Predictions': predictions}\n",
    "    results = pd.DataFrame(data=data_for_csv)\n",
    "    results.to_csv('data/predictions_abbyy.csv', index=False)"
   ]
  },
  {
   "cell_type": "code",
   "execution_count": 41,
   "metadata": {},
   "outputs": [],
   "source": [
    "def predict_once(text: str):\n",
    "    # функция предсказания для входной строки\n",
    "    cleaned_text = text.translate(str.maketrans('', '', string.punctuation))\n",
    "    cleaned_text = cleaned_text.lower()\n",
    "    tokenized_text = word_tokenize(cleaned_text)\n",
    "    vector = Tfidf_vect.transform(tokenized_text)\n",
    "    prediction = model_logreg.predict(vector)\n",
    "\n",
    "    return max(prediction)"
   ]
  },
  {
   "cell_type": "code",
   "execution_count": 42,
   "metadata": {},
   "outputs": [],
   "source": [
    "predict('data/data_abbyy')"
   ]
  },
  {
   "cell_type": "markdown",
   "metadata": {},
   "source": [
    "### Код для создания более легкого датасета из оригинального."
   ]
  },
  {
   "cell_type": "code",
   "execution_count": 2,
   "metadata": {},
   "outputs": [],
   "source": [
    "corpus = pd.read_csv('data/old-newspaper.tsv', sep='\\t', error_bad_lines=False)\n",
    "corpus = corpus[corpus['Language'].isin(['English', 'Russian', 'German', 'Indonesian', 'Chinese (Traditional)', 'Ukranian',\n",
    "                                         'Korean', 'Turkish', 'Polish'])]"
   ]
  },
  {
   "cell_type": "code",
   "execution_count": 242,
   "metadata": {},
   "outputs": [],
   "source": [
    "corpus.drop(corpus.columns[[1, 2]], axis=1, inplace=True)\n",
    "\n",
    "size = 30000\n",
    "\n",
    "languages = ['English', 'Russian', 'German', 'Indonesian', 'Chinese (Traditional)', 'Ukranian',\n",
    "             'Korean', 'Turkish', 'Polish']\n",
    "\n",
    "def select_rows(corpus, language, size):\n",
    "    if language == 'Russian': size = size * 2\n",
    "    lang_arr = corpus[corpus['Language'] == language][0:size]\n",
    "    lang_idx = corpus[corpus['Language'] == language].index\n",
    "    corpus.drop(lang_idx, inplace=True)\n",
    "    corpus = corpus.combine_first(lang_arr)\n",
    "    \n",
    "    return corpus\n",
    "    \n",
    "for lang in languages:\n",
    "    corpus = select_rows(corpus, lang, size)"
   ]
  },
  {
   "cell_type": "code",
   "execution_count": 243,
   "metadata": {},
   "outputs": [],
   "source": [
    "corpus.to_csv('data/old_newspaper_light.csv', index=False)"
   ]
  }
 ],
 "metadata": {
  "kernelspec": {
   "display_name": "Python 3",
   "language": "python",
   "name": "python3"
  },
  "language_info": {
   "codemirror_mode": {
    "name": "ipython",
    "version": 3
   },
   "file_extension": ".py",
   "mimetype": "text/x-python",
   "name": "python",
   "nbconvert_exporter": "python",
   "pygments_lexer": "ipython3",
   "version": "3.8.0"
  }
 },
 "nbformat": 4,
 "nbformat_minor": 2
}
