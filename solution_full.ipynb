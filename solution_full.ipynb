{
 "cells": [
  {
   "cell_type": "markdown",
   "metadata": {},
   "source": [
    "## Решение задания от ABBYY (Шкунков Арсений)"
   ]
  },
  {
   "cell_type": "markdown",
   "metadata": {},
   "source": [
    "В этом jupyter-ноутбуке содержится прокомментированное написание решения, работы с данными, а также обучение моделей для решения тестового задания.\n",
    "\n",
    "После обучения лушчих моделей, они сохраняются и далее используются в скрипте predictions.py, где содержатся функции predict(path) и predict_once(text).\n",
    "\n",
    "Помимо ноутбука также есть папки data (все данные -> / данные с википедии / маленький датасет для использования в tests.py / пример входных данных / предсказания на примере входных данных / основной датасет), nlp-data-py (клон гитхаб репозитория для парсинга страниц с википедии, куда я внес пару изменений, чтобы парсить страницы на любом языке), models (предобученные модели), а также скрипты для сбора, парсинга данных с википедии, и predictions.py, где содержатся функции predict(path) и predict_once(text)."
   ]
  },
  {
   "cell_type": "markdown",
   "metadata": {},
   "source": [
    "### План работы\n",
    "\n",
    "1. Возьмем большой датасет Old Newspaper - https://www.kaggle.com/alvations/old-newspapers, выберем из него записи на нескольких языках (английский, немецкий, русский) и создадим небольшую выборку (по 8 тысяч записей на язык). На первом этапе не будем проводить предобработку текста, а сразу воспользуемся CountVectorizer для численного представления, и обучим линейный классификатор (Logistic Regression и kNN). В конце, сравним результаты.\n",
    "\n",
    "2. Далее возьмем сделаем большую выборку (по 25 тысяч записей на язык) и добавим еще 6 языков (суммарно: 'English', 'Russian', 'German', 'Indonesian', 'Chinese (Traditional)', 'Ukranian', 'Korean', 'Turkish', 'Polish'). Далее проведем предобработку (lowercase, токенизация), и воспользуемся TF-IFD. Обучим те же линейные классификаторы, сравним результаты.\n",
    "\n",
    "3. Нейронные сети. Попробуем использовать самую простую RNN для решения данной задачи на выборке из прошлого пункта. Создадим словарь для всех записей из выборки и обучим RNN на нем.\n",
    "\n",
    "4. Бонус: моя попытка распарсить википедию, и использование этих данных для обучения линейного классификатора. Результат не понравился, в связи с чем я решил искать другие данные и пришел к пункту 1."
   ]
  },
  {
   "cell_type": "markdown",
   "metadata": {},
   "source": [
    "### Загрузка и обработка данных"
   ]
  },
  {
   "cell_type": "code",
   "execution_count": 1,
   "metadata": {},
   "outputs": [],
   "source": [
    "import numpy as np\n",
    "import pandas as pd\n",
    "import matplotlib.pyplot as plt"
   ]
  },
  {
   "cell_type": "markdown",
   "metadata": {},
   "source": [
    "Во время работы на компьютере я использовал весь датасет old_newspaper.tsv, но так как он весит 6Gb, я не могу его полностью загрузить на GitHub.\n",
    "Вместо него вы можете использовать его более легкую версию old_newspaper_light.csv из моего репозитория (тем не менее, код для его создания из исходного датасета есть в следующем пункте), либо скачать оригинал по ссылке с Kaggle https://www.kaggle.com/alvations/old-newspapers"
   ]
  },
  {
   "cell_type": "code",
   "execution_count": 2,
   "metadata": {},
   "outputs": [],
   "source": [
    "corpus = pd.read_csv('data/old-newspaper.tsv', sep='\\t', error_bad_lines=False)"
   ]
  },
  {
   "cell_type": "code",
   "execution_count": null,
   "metadata": {},
   "outputs": [],
   "source": [
    "corpus = pd.read_csv('data/old_newspaper_light.сsv')"
   ]
  },
  {
   "cell_type": "markdown",
   "metadata": {},
   "source": [
    "Посмотрим на данные"
   ]
  },
  {
   "cell_type": "code",
   "execution_count": 3,
   "metadata": {},
   "outputs": [
    {
     "data": {
      "text/html": [
       "<div>\n",
       "<style scoped>\n",
       "    .dataframe tbody tr th:only-of-type {\n",
       "        vertical-align: middle;\n",
       "    }\n",
       "\n",
       "    .dataframe tbody tr th {\n",
       "        vertical-align: top;\n",
       "    }\n",
       "\n",
       "    .dataframe thead th {\n",
       "        text-align: right;\n",
       "    }\n",
       "</style>\n",
       "<table border=\"1\" class=\"dataframe\">\n",
       "  <thead>\n",
       "    <tr style=\"text-align: right;\">\n",
       "      <th></th>\n",
       "      <th>Language</th>\n",
       "      <th>Source</th>\n",
       "      <th>Date</th>\n",
       "      <th>Text</th>\n",
       "    </tr>\n",
       "  </thead>\n",
       "  <tbody>\n",
       "    <tr>\n",
       "      <th>0</th>\n",
       "      <td>Afrikaans</td>\n",
       "      <td>republikein.com.na</td>\n",
       "      <td>2011/09/14</td>\n",
       "      <td>Die veranderinge aan die Britsgeboude Avensis ...</td>\n",
       "    </tr>\n",
       "    <tr>\n",
       "      <th>1</th>\n",
       "      <td>Afrikaans</td>\n",
       "      <td>republikein.com.na</td>\n",
       "      <td>2011/01/20</td>\n",
       "      <td>Duitsland se mans- en vrouespanne is die afgel...</td>\n",
       "    </tr>\n",
       "    <tr>\n",
       "      <th>2</th>\n",
       "      <td>Afrikaans</td>\n",
       "      <td>sake24.com</td>\n",
       "      <td>2009/11/28</td>\n",
       "      <td>Mnr. Estienne de Klerk, uitvoerende direkteur ...</td>\n",
       "    </tr>\n",
       "    <tr>\n",
       "      <th>3</th>\n",
       "      <td>Afrikaans</td>\n",
       "      <td>sake24.com</td>\n",
       "      <td>2009/11/12</td>\n",
       "      <td>Mustek is se finansiële-resultate-advertensie ...</td>\n",
       "    </tr>\n",
       "    <tr>\n",
       "      <th>4</th>\n",
       "      <td>Afrikaans</td>\n",
       "      <td>sake24.com</td>\n",
       "      <td>2011/02/04</td>\n",
       "      <td>nadat LMS se raad van trustees in Junie verled...</td>\n",
       "    </tr>\n",
       "  </tbody>\n",
       "</table>\n",
       "</div>"
      ],
      "text/plain": [
       "    Language              Source        Date  \\\n",
       "0  Afrikaans  republikein.com.na  2011/09/14   \n",
       "1  Afrikaans  republikein.com.na  2011/01/20   \n",
       "2  Afrikaans          sake24.com  2009/11/28   \n",
       "3  Afrikaans          sake24.com  2009/11/12   \n",
       "4  Afrikaans          sake24.com  2011/02/04   \n",
       "\n",
       "                                                Text  \n",
       "0  Die veranderinge aan die Britsgeboude Avensis ...  \n",
       "1  Duitsland se mans- en vrouespanne is die afgel...  \n",
       "2  Mnr. Estienne de Klerk, uitvoerende direkteur ...  \n",
       "3  Mustek is se finansiële-resultate-advertensie ...  \n",
       "4  nadat LMS se raad van trustees in Junie verled...  "
      ]
     },
     "execution_count": 3,
     "metadata": {},
     "output_type": "execute_result"
    }
   ],
   "source": [
    "corpus.head()"
   ]
  },
  {
   "cell_type": "markdown",
   "metadata": {},
   "source": [
    "Посмотрим количество языков"
   ]
  },
  {
   "cell_type": "code",
   "execution_count": 4,
   "metadata": {},
   "outputs": [
    {
     "data": {
      "text/plain": [
       "English                 1010242\n",
       "Danish                   887016\n",
       "Indonesian               781521\n",
       "Chinese (Simplified)     682472\n",
       "Korean                   667314\n",
       "                         ...   \n",
       "Khmer                     55674\n",
       "Nepali                    54877\n",
       "Malayalam                 40484\n",
       "Icelandic                 39093\n",
       "Amharic                   32553\n",
       "Name: Language, Length: 66, dtype: int64"
      ]
     },
     "execution_count": 4,
     "metadata": {},
     "output_type": "execute_result"
    }
   ],
   "source": [
    "corpus['Language'].value_counts()"
   ]
  },
  {
   "cell_type": "markdown",
   "metadata": {},
   "source": [
    "Отберем только русский, английский и немецкий и посмотрим гистограмму \n",
    "количества записей на каждый из этих языков"
   ]
  },
  {
   "cell_type": "code",
   "execution_count": 5,
   "metadata": {},
   "outputs": [
    {
     "data": {
      "image/png": "[encoded data removed]",
      "text/plain": [
       "<Figure size 432x288 with 1 Axes>"
      ]
     },
     "metadata": {
      "needs_background": "light"
     },
     "output_type": "display_data"
    }
   ],
   "source": [
    "corpus = corpus[corpus['Language'].isin(['English', 'Russian', 'German'])]\n",
    "\n",
    "plt.hist(corpus['Language'])\n",
    "plt.title('Количество записей на каждый из языков')\n",
    "plt.show()"
   ]
  },
  {
   "cell_type": "markdown",
   "metadata": {},
   "source": [
    "Создадим небольшую выборку из этого датасета, уравновесив классы. Также удалим ненужные стобцы 'Source' и 'Date'"
   ]
  },
  {
   "cell_type": "code",
   "execution_count": 6,
   "metadata": {},
   "outputs": [],
   "source": [
    "corpus.drop(corpus.columns[[1, 2]], axis=1, inplace=True)\n",
    "\n",
    "size = 8000\n",
    "\n",
    "en = corpus[corpus['Language'] == 'English'][0:size]\n",
    "en_idx = corpus[corpus['Language'] == 'English'].index\n",
    "corpus.drop(en_idx, inplace=True)\n",
    "\n",
    "ru = corpus[corpus['Language'] == 'Russian'][0:size]\n",
    "ru_idx = corpus[corpus['Language'] == 'Russian'].index\n",
    "corpus.drop(ru_idx, inplace=True)\n",
    "\n",
    "de = corpus[corpus['Language'] == 'German'][0:size]\n",
    "de_idx = corpus[corpus['Language'] == 'German'].index\n",
    "corpus.drop(de_idx, inplace=True)\n",
    "\n",
    "corpus = corpus.combine_first(en)\n",
    "corpus = corpus.combine_first(ru)\n",
    "corpus = corpus.combine_first(de)"
   ]
  },
  {
   "cell_type": "markdown",
   "metadata": {},
   "source": [
    "Изменим значения стобца 'Language' на 1 - русский, 0 - другие языки для дальнейшего использования в линейных моделях классификации"
   ]
  },
  {
   "cell_type": "code",
   "execution_count": 7,
   "metadata": {},
   "outputs": [],
   "source": [
    "corpus.loc[corpus['Language'] == \"Russian\", \"Language\"] = 1\n",
    "corpus.loc[corpus['Language'] != 1, \"Language\"] = 0"
   ]
  },
  {
   "cell_type": "markdown",
   "metadata": {},
   "source": [
    "### 1. CountVectorizer и линейные классификаторы"
   ]
  },
  {
   "cell_type": "code",
   "execution_count": 8,
   "metadata": {},
   "outputs": [],
   "source": [
    "from sklearn.model_selection import train_test_split\n",
    "from sklearn.feature_extraction.text import CountVectorizer\n",
    "from sklearn.linear_model import LogisticRegression\n",
    "from sklearn.neighbors import KNeighborsClassifier\n",
    "from sklearn.metrics import classification_report, accuracy_score, f1_score"
   ]
  },
  {
   "cell_type": "markdown",
   "metadata": {},
   "source": [
    "Разделим выборку на train и test"
   ]
  },
  {
   "cell_type": "code",
   "execution_count": 9,
   "metadata": {},
   "outputs": [],
   "source": [
    "X_train, X_test, y_train, y_test = train_test_split(corpus['Text'], corpus['Language'], test_size=0.3)\n",
    "\n",
    "y_train = y_train.astype('int')\n",
    "y_test = y_test.astype('int')"
   ]
  },
  {
   "cell_type": "markdown",
   "metadata": {},
   "source": [
    "Используем CountVectorizer"
   ]
  },
  {
   "cell_type": "code",
   "execution_count": 10,
   "metadata": {},
   "outputs": [],
   "source": [
    "vectorizer = CountVectorizer(max_features=1500)\n",
    "\n",
    "X_train = vectorizer.fit_transform(X_train).toarray()\n",
    "X_test  = vectorizer.fit_transform(X_test).toarray()"
   ]
  },
  {
   "cell_type": "markdown",
   "metadata": {},
   "source": [
    "Обучим линейный классификатор и kNN, сделаем для них предсказания"
   ]
  },
  {
   "cell_type": "code",
   "execution_count": 11,
   "metadata": {},
   "outputs": [],
   "source": [
    "model_logreg = LogisticRegression(random_state=42)\n",
    "model_logreg.fit(X_train, y_train)\n",
    "\n",
    "logreg_pred = model_logreg.predict(X_test)\n",
    "logreg_pred = logreg_pred.astype('int')\n",
    "\n",
    "model_knn = KNeighborsClassifier(n_neighbors=3)\n",
    "model_knn.fit(X_train, y_train)\n",
    "\n",
    "knn_pred = model_knn.predict(X_test)\n",
    "knn_pred = knn_pred.astype('int')"
   ]
  },
  {
   "cell_type": "code",
   "execution_count": 12,
   "metadata": {},
   "outputs": [
    {
     "name": "stdout",
     "output_type": "stream",
     "text": [
      "Classification Report LogReg\n",
      "              precision    recall  f1-score   support\n",
      "\n",
      "           0       0.99      0.95      0.97      4748\n",
      "           1       0.91      0.99      0.95      2452\n",
      "\n",
      "    accuracy                           0.96      7200\n",
      "   macro avg       0.95      0.97      0.96      7200\n",
      "weighted avg       0.97      0.96      0.97      7200\n",
      "\n",
      "\n",
      "Classifiaction kNN\n",
      "              precision    recall  f1-score   support\n",
      "\n",
      "           0       0.92      0.92      0.92      4748\n",
      "           1       0.85      0.85      0.85      2452\n",
      "\n",
      "    accuracy                           0.90      7200\n",
      "   macro avg       0.89      0.89      0.89      7200\n",
      "weighted avg       0.90      0.90      0.90      7200\n",
      "\n",
      "Accuracy LogReg: 0.9647222222222223 Accuracy kNN: 0.8970833333333333\n",
      "F1-Score LogReg: 0.950293542074364 F1-Score kNN: 0.8493596259402318\n"
     ]
    }
   ],
   "source": [
    "print('Classification Report LogReg')\n",
    "print(classification_report(y_test, logreg_pred))\n",
    "print()\n",
    "print('Classifiaction kNN')\n",
    "print(classification_report(y_test, knn_pred))\n",
    "\n",
    "print('Accuracy LogReg:', accuracy_score(y_test, logreg_pred), 'Accuracy kNN:', accuracy_score(y_test, knn_pred))\n",
    "print('F1-Score LogReg:', f1_score(y_test, logreg_pred), 'F1-Score kNN:', f1_score(y_test, knn_pred))"
   ]
  },
  {
   "cell_type": "markdown",
   "metadata": {},
   "source": [
    "Здесь видно, что обе модели показали результаты сильно близкие к 1, но этому доверять нельзя из-за количества данных, и отсутствия какой-либо предобработки."
   ]
  },
  {
   "cell_type": "markdown",
   "metadata": {},
   "source": [
    "### 2. Преобработка данных, токенизация и TF-IDF"
   ]
  },
  {
   "cell_type": "code",
   "execution_count": 2,
   "metadata": {},
   "outputs": [],
   "source": [
    "from nltk.tokenize import word_tokenize\n",
    "from sklearn.feature_extraction.text import TfidfVectorizer\n",
    "from sklearn.linear_model import LogisticRegression\n",
    "from sklearn.metrics import classification_report, accuracy_score, f1_score\n",
    "import matplotlib.pyplot as plt"
   ]
  },
  {
   "cell_type": "markdown",
   "metadata": {},
   "source": [
    "Добавим больше языков. Посмотрим на общее количество строк для каждого языка."
   ]
  },
  {
   "cell_type": "code",
   "execution_count": 3,
   "metadata": {},
   "outputs": [
    {
     "data": {
      "image/png": "[encoded data removed]",
      "text/plain": [
       "<Figure size 432x288 with 1 Axes>"
      ]
     },
     "metadata": {
      "needs_background": "light"
     },
     "output_type": "display_data"
    }
   ],
   "source": [
    "corpus = pd.read_csv('data/old-newspaper.tsv', sep='\\t', error_bad_lines=False)\n",
    "corpus = corpus[corpus['Language'].isin(['English', 'Russian', 'German', 'Indonesian', 'Chinese (Traditional)', 'Ukranian',\n",
    "                                         'Korean', 'Turkish', 'Polish'])]\n",
    "\n",
    "plt.hist(corpus['Language'])\n",
    "plt.title('Количество записей на каждый из языков')\n",
    "plt.show()"
   ]
  },
  {
   "cell_type": "markdown",
   "metadata": {},
   "source": [
    "Уберем ненужные столбцы и составим выборку по 25 тысяч строк на каждый язык. Для русского возьмем 50 тысяч строк."
   ]
  },
  {
   "cell_type": "code",
   "execution_count": 4,
   "metadata": {},
   "outputs": [],
   "source": [
    "corpus.drop(corpus.columns[[1, 2]], axis=1, inplace=True)"
   ]
  },
  {
   "cell_type": "code",
   "execution_count": 5,
   "metadata": {},
   "outputs": [],
   "source": [
    "size = 25000\n",
    "\n",
    "languages = ['English', 'Russian', 'German', 'Indonesian', 'Chinese (Traditional)', 'Ukranian',\n",
    "             'Korean', 'Turkish', 'Polish']\n",
    "\n",
    "def select_rows(corpus, language, size):\n",
    "    if language == 'Russian': size = size * 2\n",
    "    lang_arr = corpus[corpus['Language'] == language][0:size]\n",
    "    lang_idx = corpus[corpus['Language'] == language].index\n",
    "    corpus.drop(lang_idx, inplace=True)\n",
    "    corpus = corpus.combine_first(lang_arr)\n",
    "    \n",
    "    return corpus\n",
    "    \n",
    "for lang in languages:\n",
    "    corpus = select_rows(corpus, lang, size)"
   ]
  },
  {
   "cell_type": "code",
   "execution_count": 6,
   "metadata": {},
   "outputs": [],
   "source": [
    "corpus.to_csv('data/old_newspaper_light.csv', index=False)"
   ]
  },
  {
   "cell_type": "markdown",
   "metadata": {},
   "source": [
    "Обработаем данные. Уберем лишние знаки, приведем все к нижнему регистру и разобьем каждую строку на токены. Далее разметим строки по принципу: 1 - русский язык, 0 - другие языки."
   ]
  },
  {
   "cell_type": "code",
   "execution_count": 151,
   "metadata": {},
   "outputs": [],
   "source": [
    "import string\n",
    "\n",
    "corpus['Text'] = corpus['Text'].replace(r'[{}]'.format(string.punctuation), '', regex=True)\n",
    "corpus['Text'] = [text.lower() for text in corpus['Text']]\n",
    "corpus['Text'] = [word_tokenize(text) for text in corpus['Text']]"
   ]
  },
  {
   "cell_type": "code",
   "execution_count": 7,
   "metadata": {},
   "outputs": [
    {
     "data": {
      "text/plain": [
       "Russian                  50000\n",
       "Chinese (Traditional)    25000\n",
       "Indonesian               25000\n",
       "Korean                   25000\n",
       "Ukranian                 25000\n",
       "English                  25000\n",
       "Turkish                  25000\n",
       "German                   25000\n",
       "Polish                   25000\n",
       "Name: Language, dtype: int64"
      ]
     },
     "execution_count": 7,
     "metadata": {},
     "output_type": "execute_result"
    }
   ],
   "source": [
    "corpus.reset_index(inplace=True)\n",
    "corpus['Language'].value_counts()"
   ]
  },
  {
   "cell_type": "code",
   "execution_count": 153,
   "metadata": {},
   "outputs": [],
   "source": [
    "corpus.loc[corpus['Language'] == \"Russian\", \"Language\"] = 1\n",
    "corpus.loc[corpus['Language'] != 1, \"Language\"] = 0\n",
    "\n",
    "corpus.drop(corpus.columns[0], axis=1, inplace=True)\n",
    "corpus = corpus.sample(frac=1).reset_index(drop=True)\n",
    "corpus = corpus.astype({\"Text\": str})"
   ]
  },
  {
   "cell_type": "markdown",
   "metadata": {},
   "source": [
    "Разобьем обработанные данные на train и test и загрузим в TF-IDF-Vectorizer. Далее создадим модели логистической регрессии и kNN, и обучим их на векторах преобразованных с помощью TF-IDF"
   ]
  },
  {
   "cell_type": "code",
   "execution_count": 155,
   "metadata": {},
   "outputs": [],
   "source": [
    "X_train, X_test, y_train, y_test = model_selection.train_test_split(corpus['Text'], corpus['Language'], test_size=0.3)\n",
    "\n",
    "y_train = y_train.astype('int')\n",
    "y_test = y_test.astype('int')"
   ]
  },
  {
   "cell_type": "code",
   "execution_count": 156,
   "metadata": {},
   "outputs": [],
   "source": [
    "Tfidf_vect = TfidfVectorizer(max_features=25000)\n",
    "Tfidf_vect.fit(corpus['Text'])\n",
    "X_train_Tfidf = Tfidf_vect.transform(X_train)\n",
    "X_test_Tfidf = Tfidf_vect.transform(X_test)"
   ]
  },
  {
   "cell_type": "code",
   "execution_count": 157,
   "metadata": {},
   "outputs": [],
   "source": [
    "model_logreg = LogisticRegression(random_state=42)\n",
    "model_logreg.fit(X_train_Tfidf, y_train)\n",
    "\n",
    "logreg_pred = model_logreg.predict(X_test_Tfidf)\n",
    "logreg_pred = logreg_pred.astype('int')\n",
    "\n",
    "model_knn = KNeighborsClassifier(n_neighbors=3)\n",
    "model_knn.fit(X_train_Tfidf, y_train)\n",
    "\n",
    "knn_pred = model_knn.predict(X_test_Tfidf)\n",
    "knn_pred = knn_pred.astype('int')"
   ]
  },
  {
   "cell_type": "markdown",
   "metadata": {},
   "source": [
    "Посчитаем метрики и выведем результат"
   ]
  },
  {
   "cell_type": "code",
   "execution_count": 158,
   "metadata": {},
   "outputs": [
    {
     "name": "stdout",
     "output_type": "stream",
     "text": [
      "Classification Report LogReg\n",
      "              precision    recall  f1-score   support\n",
      "\n",
      "           0       0.98      1.00      0.99     71999\n",
      "           1       1.00      0.93      0.96     18001\n",
      "\n",
      "    accuracy                           0.98     90000\n",
      "   macro avg       0.99      0.96      0.97     90000\n",
      "weighted avg       0.98      0.98      0.98     90000\n",
      "\n",
      "\n",
      "Classifiaction kNN\n",
      "              precision    recall  f1-score   support\n",
      "\n",
      "           0       0.82      1.00      0.90     71999\n",
      "           1       0.91      0.10      0.18     18001\n",
      "\n",
      "    accuracy                           0.82     90000\n",
      "   macro avg       0.86      0.55      0.54     90000\n",
      "weighted avg       0.83      0.82      0.75     90000\n",
      "\n",
      "Accuracy LogReg: 0.9842444444444445 Accuracy kNN: 0.8177666666666666\n",
      "F1-Score LogReg: 0.9591754476881443 F1-Score kNN: 0.17810072663492857\n"
     ]
    }
   ],
   "source": [
    "print('Classification Report LogReg')\n",
    "print(classification_report(y_test, logreg_pred))\n",
    "print()\n",
    "print('Classifiaction kNN')\n",
    "print(classification_report(y_test, knn_pred))\n",
    "\n",
    "print('Accuracy LogReg:', accuracy_score(y_test, logreg_pred), 'Accuracy kNN:', accuracy_score(y_test, knn_pred))\n",
    "print('F1-Score LogReg:', f1_score(y_test, logreg_pred), 'F1-Score kNN:', f1_score(y_test, knn_pred))"
   ]
  },
  {
   "cell_type": "markdown",
   "metadata": {},
   "source": [
    "Из метрик видно, что результат у LogReg показывает очень хороший результат, \n",
    "в то время как kNN на f-мере показал крайне низкий результат.\n",
    "\n",
    "Сохраним модель логистической регрессии и TF-IDF для дальнейшего использования. "
   ]
  },
  {
   "cell_type": "code",
   "execution_count": 159,
   "metadata": {},
   "outputs": [],
   "source": [
    "import pickle\n",
    "\n",
    "model_filename = \"logistic_regression.pkl\"\n",
    "with open(model_filename, 'wb') as file:\n",
    "    pickle.dump(model_logreg, file)\n",
    "    \n",
    "transformer_filename = \"tf_idf_logistic_regression.pkl\"\n",
    "with open(transformer_filename, 'wb') as file:\n",
    "    pickle.dump(Tfidf_vect, file)"
   ]
  },
  {
   "cell_type": "code",
   "execution_count": null,
   "metadata": {},
   "outputs": [],
   "source": [
    "import os\n",
    "\n",
    "def predict(path: str):\n",
    "    # функция предсказания, path - путь к папке с текстами\n",
    "    directory = os.listdir(path)\n",
    "    directory = sorted(directory, key=lambda x: int(x[:-4]))\n",
    "    predictions = []\n",
    "\n",
    "    for file in directory:\n",
    "        open_file = open(path + '/' + file, 'r+')\n",
    "        read_file = open_file.read()\n",
    "        answer = predict_once(read_file)\n",
    "        predictions.append(answer)\n",
    "\n",
    "    data_for_csv = {'File Name': directory, 'Predictions': predictions}\n",
    "    results = pd.DataFrame(data=data_for_csv)\n",
    "    results.to_csv('data/predictions_abbyy.csv', index=False)"
   ]
  },
  {
   "cell_type": "code",
   "execution_count": null,
   "metadata": {},
   "outputs": [],
   "source": [
    "def predict_once(text: str):\n",
    "    # функция предсказания для входной строки\n",
    "    cleaned_text = text.translate(str.maketrans('', '', string.punctuation))\n",
    "    cleaned_text = cleaned_text.lower()\n",
    "    tokenized_text = word_tokenize(cleaned_text)\n",
    "    vector = Tfidf_vect.transform(tokenized_text)\n",
    "    prediction = model_logreg.predict(vector)\n",
    "\n",
    "    return max(prediction)"
   ]
  },
  {
   "cell_type": "code",
   "execution_count": null,
   "metadata": {},
   "outputs": [],
   "source": [
    "predict('data/data_abbyy')"
   ]
  },
  {
   "cell_type": "markdown",
   "metadata": {},
   "source": [
    "### 3. Использование RNN"
   ]
  },
  {
   "cell_type": "markdown",
   "metadata": {},
   "source": [
    "Используем данные из предыдущего пункта для создание csv файлов для train и test датасетов."
   ]
  },
  {
   "cell_type": "code",
   "execution_count": 182,
   "metadata": {},
   "outputs": [],
   "source": [
    "train = corpus[0:150000]\n",
    "val   = corpus[150000:175000]\n",
    "test  = corpus[175000:250000]"
   ]
  },
  {
   "cell_type": "code",
   "execution_count": 183,
   "metadata": {},
   "outputs": [],
   "source": [
    "corpus.to_csv('data/corpus/corpus.csv', index=False)"
   ]
  },
  {
   "cell_type": "code",
   "execution_count": 184,
   "metadata": {},
   "outputs": [],
   "source": [
    "train.to_csv('data/corpus/train_corpus.csv', index=False)\n",
    "val.to_csv('data/corpus/val_corpus.csv', index=False)\n",
    "test.to_csv('data/corpus/test_corpus.csv', index=False)"
   ]
  },
  {
   "cell_type": "markdown",
   "metadata": {},
   "source": [
    "Импортируем библиотеки для дальнейшей работы"
   ]
  },
  {
   "cell_type": "code",
   "execution_count": 222,
   "metadata": {},
   "outputs": [],
   "source": [
    "import pandas as pd\n",
    "import numpy as np\n",
    "import seaborn as sns\n",
    "import torch\n",
    "\n",
    "from torchtext import datasets\n",
    "\n",
    "from torchtext.data import Field, LabelField\n",
    "from torchtext.data import BucketIterator, TabularDataset\n",
    "\n",
    "import torch.nn as nn\n",
    "import torch.nn.functional as F\n",
    "import torch.optim as optim"
   ]
  },
  {
   "cell_type": "markdown",
   "metadata": {},
   "source": [
    "Создадим датасет из полученных выше csv файлов, и создадим итератор. После построим словарь для train."
   ]
  },
  {
   "cell_type": "code",
   "execution_count": 223,
   "metadata": {},
   "outputs": [],
   "source": [
    "TEXT = Field()\n",
    "LABEL = LabelField(dtype = torch.float)\n",
    "\n",
    "device = torch.device('cuda' if torch.cuda.is_available() else 'cpu')\n",
    "\n",
    "train, val, test = TabularDataset.splits(\n",
    "                        path='data/corpus/', train='train_corpus.csv',\n",
    "                        validation='val_corpus.csv', test='test_corpus.csv', format='csv',\n",
    "                        fields=[('Language', LABEL), ('Text', TEXT)], skip_header = True)\n",
    "\n",
    "train_iter, val_iter, test_iter = BucketIterator.splits((train, val, test), batch_size=64, device=device, \n",
    "                                              sort_key=lambda x: len(x.Text), sort_within_batch=False,)\n",
    "\n",
    "MAX_VOCAB_SIZE = 25_000\n",
    "TEXT.build_vocab(train, max_size = MAX_VOCAB_SIZE)\n",
    "LABEL.build_vocab(train)"
   ]
  },
  {
   "cell_type": "code",
   "execution_count": 224,
   "metadata": {},
   "outputs": [
    {
     "name": "stdout",
     "output_type": "stream",
     "text": [
      "Unique tokens in TEXT vocabulary: 25002\n",
      "Unique tokens in LABEL vocabulary: 2\n"
     ]
    }
   ],
   "source": [
    "print(f\"Unique tokens in TEXT vocabulary: {len(TEXT.vocab)}\")\n",
    "print(f\"Unique tokens in LABEL vocabulary: {len(LABEL.vocab)}\")"
   ]
  },
  {
   "cell_type": "code",
   "execution_count": 225,
   "metadata": {},
   "outputs": [
    {
     "name": "stdout",
     "output_type": "stream",
     "text": [
      "[(\"'в',\", 72839), (\"'и',\", 51297), (\"'на',\", 44469), (\"'die',\", 37820), (\"'the',\", 37256), (\"'der',\", 36026), (\"'не',\", 35345), (\"'in',\", 32835), (\"'«',\", 30404), (\"'»',\", 28349), (\"'’',\", 26697), (\"'to',\", 24487), (\"'und',\", 23396), (\"'w',\", 22949), (\"'–',\", 22775), (\"'“',\", 21298), (\"'a',\", 21281), (\"'у',\", 19467), (\"'yang',\", 18489), (\"'с',\", 18290)]\n"
     ]
    }
   ],
   "source": [
    "print(TEXT.vocab.freqs.most_common(20))"
   ]
  },
  {
   "cell_type": "code",
   "execution_count": 226,
   "metadata": {},
   "outputs": [
    {
     "name": "stdout",
     "output_type": "stream",
     "text": [
      "defaultdict(None, {'0': 0, '1': 1})\n"
     ]
    }
   ],
   "source": [
    "print(LABEL.vocab.stoi)"
   ]
  },
  {
   "cell_type": "markdown",
   "metadata": {},
   "source": [
    "Напишим архитектуру самой простой реккурентной нейронной сети, функцию train и цикл обучения. Объявим и будем обучать."
   ]
  },
  {
   "cell_type": "code",
   "execution_count": 227,
   "metadata": {},
   "outputs": [],
   "source": [
    "import torch.nn as nn\n",
    "\n",
    "class RNN(nn.Module):\n",
    "    def __init__(self, input_dim, embedding_dim, hidden_dim, output_dim):\n",
    "        super().__init__()\n",
    "        self.embedding = nn.Embedding(input_dim, embedding_dim)\n",
    "        self.rnn = nn.RNN(embedding_dim, hidden_dim)\n",
    "        self.fc = nn.Linear(hidden_dim, output_dim)\n",
    "        \n",
    "    def forward(self, text):\n",
    "        embedded = self.embedding(text)\n",
    "        output, hidden = self.rnn(embedded)\n",
    "        \n",
    "        return self.fc(hidden.squeeze(0))\n",
    "    \n",
    "INPUT_DIM = len(TEXT.vocab)\n",
    "EMBEDDING_DIM = 100\n",
    "HIDDEN_DIM = 256\n",
    "OUTPUT_DIM = 1\n",
    "\n",
    "model = RNN(INPUT_DIM, EMBEDDING_DIM, HIDDEN_DIM, OUTPUT_DIM)"
   ]
  },
  {
   "cell_type": "code",
   "execution_count": 228,
   "metadata": {},
   "outputs": [],
   "source": [
    "import torch.optim as optim\n",
    "\n",
    "optimizer = optim.Adam(model.parameters(), lr=1e-3)\n",
    "criterion = nn.BCEWithLogitsLoss()\n",
    "\n",
    "model = model.to(device)\n",
    "criterion = criterion.to(device)"
   ]
  },
  {
   "cell_type": "markdown",
   "metadata": {},
   "source": [
    "Функция для вычисления accuracy для батча"
   ]
  },
  {
   "cell_type": "code",
   "execution_count": 229,
   "metadata": {},
   "outputs": [],
   "source": [
    "def batch_accuracy(preds, y):\n",
    "    # Считает accuracy по батчу, а после возвращает нормированную оценку\n",
    "\n",
    "    rounded_preds = torch.round(torch.sigmoid(preds))\n",
    "    correct = (rounded_preds == y).float()\n",
    "    accuracy = correct.sum() / len(correct)\n",
    "    return accuracy"
   ]
  },
  {
   "cell_type": "code",
   "execution_count": 230,
   "metadata": {},
   "outputs": [],
   "source": [
    "def train(model, data, optimizer, criterion):\n",
    "    \n",
    "    epoch_loss = 0\n",
    "    epoch_accuracy = 0\n",
    "    \n",
    "    model.train()\n",
    "    \n",
    "    for batch in data:\n",
    "        optimizer.zero_grad()\n",
    "                \n",
    "        predictions = model(batch.Text).squeeze(1)\n",
    "        \n",
    "        loss = criterion(predictions, batch.Language)\n",
    "        \n",
    "        accuracy = batch_accuracy(predictions, batch.Language)\n",
    "        \n",
    "        loss.backward()\n",
    "        \n",
    "        optimizer.step()\n",
    "        \n",
    "        epoch_loss += loss.item()\n",
    "        epoch_accuracy += accuracy.item()\n",
    "        \n",
    "    return epoch_loss / len(data), epoch_accuracy / len(data)"
   ]
  },
  {
   "cell_type": "code",
   "execution_count": 234,
   "metadata": {},
   "outputs": [],
   "source": [
    "def evaluate(model, data, criterion):\n",
    "    \n",
    "    epoch_loss = 0\n",
    "    epoch_accuracy = 0\n",
    "    \n",
    "    model.eval()\n",
    "    \n",
    "    with torch.no_grad():\n",
    "    \n",
    "        for batch in data:\n",
    "\n",
    "            predictions = model(batch.Text).squeeze(1)\n",
    "            \n",
    "            loss = criterion(predictions, batch.Language)\n",
    "            \n",
    "            accuracy = batch_accuracy(predictions, batch.Language)\n",
    "\n",
    "            epoch_loss += loss.item()\n",
    "            epoch_accuracy += accuracy.item()\n",
    "        \n",
    "    return epoch_loss / len(data), epoch_accuracy / len(data)"
   ]
  },
  {
   "cell_type": "code",
   "execution_count": 232,
   "metadata": {},
   "outputs": [],
   "source": [
    "import time\n",
    "\n",
    "def epoch_time(start_time, end_time):\n",
    "    all_time = end_time - start_time\n",
    "    mins = int(all_time / 60)\n",
    "    secs = int(all_time - (mins * 60))\n",
    "    return mins, secs"
   ]
  },
  {
   "cell_type": "code",
   "execution_count": 233,
   "metadata": {},
   "outputs": [
    {
     "name": "stderr",
     "output_type": "stream",
     "text": [
      "c:\\users\\shkun\\appdata\\local\\programs\\python\\python38\\lib\\site-packages\\torch\\serialization.py:359: UserWarning: Couldn't retrieve source code for container of type RNN. It won't be checked for correctness upon loading.\n",
      "  warnings.warn(\"Couldn't retrieve source code for container of \"\n"
     ]
    },
    {
     "name": "stdout",
     "output_type": "stream",
     "text": [
      "Epoch: 01 | Epoch Time: 1m 52s Train Loss: 0.502 | Train Acc: 79.97% Val. Loss: 0.650 |  Val. Acc: 69.15%\n",
      "Epoch: 02 | Epoch Time: 2m 4s Train Loss: 0.502 | Train Acc: 80.01% Val. Loss: 0.422 |  Val. Acc: 88.70%\n",
      "Epoch: 03 | Epoch Time: 2m 11s Train Loss: 0.496 | Train Acc: 80.42% Val. Loss: 0.381 |  Val. Acc: 86.73%\n",
      "Epoch: 04 | Epoch Time: 2m 11s Train Loss: 0.495 | Train Acc: 80.52% Val. Loss: 0.533 |  Val. Acc: 74.80%\n",
      "Epoch: 05 | Epoch Time: 2m 18s Train Loss: 0.500 | Train Acc: 80.18% Val. Loss: 0.446 |  Val. Acc: 76.86%\n",
      "Epoch: 06 | Epoch Time: 2m 21s Train Loss: 0.497 | Train Acc: 80.34% Val. Loss: 0.506 |  Val. Acc: 76.41%\n",
      "Epoch: 07 | Epoch Time: 2m 14s Train Loss: 0.494 | Train Acc: 80.58% Val. Loss: 0.511 |  Val. Acc: 84.53%\n",
      "Epoch: 08 | Epoch Time: 2m 11s Train Loss: 0.406 | Train Acc: 84.29% Val. Loss: 0.357 |  Val. Acc: 90.67%\n",
      "Epoch: 09 | Epoch Time: 2m 13s Train Loss: 0.405 | Train Acc: 82.48% Val. Loss: 0.276 |  Val. Acc: 90.47%\n",
      "Epoch: 10 | Epoch Time: 2m 13s Train Loss: 0.422 | Train Acc: 80.90% Val. Loss: 0.268 |  Val. Acc: 92.81%\n"
     ]
    }
   ],
   "source": [
    "N_EPOCHS = 10\n",
    "\n",
    "best_valid_loss = float('inf')\n",
    "\n",
    "train_loss_values = []\n",
    "valid_loss_values = []\n",
    "\n",
    "train_accuracy_values = []\n",
    "valid_accuracy_values = []\n",
    "\n",
    "for epoch in range(N_EPOCHS):\n",
    "\n",
    "    start_time = time.time()\n",
    "    \n",
    "    train_loss, train_accuracy = train(model, train_iter, optimizer, criterion)\n",
    "    valid_loss, valid_accuracy = evaluate(model, val_iter, criterion)\n",
    "    \n",
    "    train_loss_values.append(train_loss)\n",
    "    valid_loss_values.append(valid_loss)\n",
    "    train_accuracy_values.append(train_accuracy)\n",
    "    valid_accuracy_values.append(valid_accuracy)\n",
    "    \n",
    "    end_time = time.time()\n",
    "    \n",
    "    epoch_mins, epoch_secs = epoch_time(start_time, end_time)\n",
    "    \n",
    "    if valid_loss < best_valid_loss:\n",
    "        best_valid_loss = valid_loss\n",
    "        torch.save(model, 'models/recurrent_neural_network/rnn_model.pt')\n",
    "\n",
    "    \n",
    "    print(f'Epoch: {epoch+1:02} | Epoch Time: {epoch_mins}m {epoch_secs}s ' \n",
    "          f'Train Loss: {train_loss:.3f} | Train Acc: {train_accuracy*100:.2f}% '\n",
    "          f'Val. Loss: {valid_loss:.3f} |  Val. Acc: {valid_accuracy*100:.2f}%')"
   ]
  },
  {
   "cell_type": "markdown",
   "metadata": {},
   "source": [
    "Построим графики лоссов и значений метрик"
   ]
  },
  {
   "cell_type": "code",
   "execution_count": 244,
   "metadata": {},
   "outputs": [
    {
     "data": {
      "image/png": "[encoded data removed]",
      "text/plain": [
       "<Figure size 1440x1440 with 4 Axes>"
      ]
     },
     "metadata": {
      "needs_background": "light"
     },
     "output_type": "display_data"
    }
   ],
   "source": [
    "import matplotlib.pyplot as plt\n",
    "\n",
    "fig = plt.figure(figsize=(20, 20))\n",
    "a1 = fig.add_subplot(621)\n",
    "plt.plot(range(len(train_loss_values)), train_loss_values)\n",
    "plt.xlabel('Epoch')\n",
    "plt.ylabel('Loss')\n",
    "plt.title('Loss Train')\n",
    "\n",
    "a2 = fig.add_subplot(622)\n",
    "plt.plot(range(len(valid_loss_values)), valid_loss_values, color='orange')\n",
    "plt.xlabel('Epoch')\n",
    "plt.ylabel('Loss')\n",
    "plt.title('Loss Validation')\n",
    "\n",
    "a3 = fig.add_subplot(623)\n",
    "plt.plot(range(len(train_accuracy_values)), train_accuracy_values)\n",
    "plt.xlabel('Epoch')\n",
    "plt.ylabel('Accuracy')\n",
    "plt.title('Accuracy Train')\n",
    "\n",
    "a4 = fig.add_subplot(624)\n",
    "plt.plot(range(len(valid_accuracy_values)), valid_accuracy_values, color='orange')\n",
    "plt.xlabel('Epoch')\n",
    "plt.ylabel('Accuracy')\n",
    "plt.title('Accuracy Validation')\n",
    "\n",
    "plt.show()"
   ]
  },
  {
   "cell_type": "markdown",
   "metadata": {},
   "source": [
    "Посчитаем метрику и лосс на test"
   ]
  },
  {
   "cell_type": "code",
   "execution_count": 245,
   "metadata": {},
   "outputs": [],
   "source": [
    "test_loss, test_accuracy = evaluate(model, test_iter, criterion)"
   ]
  },
  {
   "cell_type": "code",
   "execution_count": 246,
   "metadata": {},
   "outputs": [
    {
     "name": "stdout",
     "output_type": "stream",
     "text": [
      "0.26990849657834864 0.8353961614055896\n"
     ]
    }
   ],
   "source": [
    "print(test_loss, test_acc)"
   ]
  },
  {
   "cell_type": "markdown",
   "metadata": {},
   "source": [
    "Результат получился не сильно хуже, чем у LogReg, но для использования в скрипте predictions.py на данных предоставленных в письме с тестовым заданием я выбрал LogReg."
   ]
  },
  {
   "cell_type": "markdown",
   "metadata": {},
   "source": [
    "### 4. Парсинг Wikipedia и использование полученных данных для классификации языка (изначальная идея сбора данных)"
   ]
  },
  {
   "cell_type": "markdown",
   "metadata": {},
   "source": [
    "Изначально собирался использовать википедию в качестве источника данных для решения данной задачи. Нашел статью на Хабре https://habr.com/ru/post/425507/, где рассказывалось как скачивать дампы из википедии, а потом с помощью утилит WikiExtractor.py и process_wikipedia.py парсить их в CSV. \n",
    "Однако, в процессе выяснилось, чтобы парсить ее таким образом слишком долго и затратно по памяти на жестком диске (при имеющихся мощностях и времени на задачу).\n",
    "\n",
    "Я нашел библиотеку для Python - https://github.com/madutv/nlp-wiki-data-py. Но она работала только с англоязычной \n",
    "википедией, поэтому пришлось клонировать этот репозиторий к себе и внести пару изменений в файле wiki.py, чтобы он также парсил\n",
    "статьи на любом языке.\n",
    "\n",
    "Сбор данных из википедии осуществляется через скрипт data_collection.py, а обработка и выдача csv файла с помощью data_processing.py. Далее я использую уже собранный с помощью этих скриптов csv файл."
   ]
  },
  {
   "cell_type": "code",
   "execution_count": 210,
   "metadata": {},
   "outputs": [],
   "source": [
    "wiki_train = pd.read_csv('data/wiki/wiki_train.csv')\n",
    "wiki_test  = pd.read_csv('data/wiki/wiki_test.csv')\n",
    "\n",
    "wiki_train = wiki_train.dropna(how='any') \n",
    "wiki_train = wiki_train.reset_index(drop=True)\n",
    "wiki_test = wiki_test.dropna(how='any') \n",
    "wiki_test = wiki_test.reset_index(drop=True)"
   ]
  },
  {
   "cell_type": "code",
   "execution_count": 235,
   "metadata": {},
   "outputs": [
    {
     "data": {
      "text/html": [
       "<div>\n",
       "<style scoped>\n",
       "    .dataframe tbody tr th:only-of-type {\n",
       "        vertical-align: middle;\n",
       "    }\n",
       "\n",
       "    .dataframe tbody tr th {\n",
       "        vertical-align: top;\n",
       "    }\n",
       "\n",
       "    .dataframe thead th {\n",
       "        text-align: right;\n",
       "    }\n",
       "</style>\n",
       "<table border=\"1\" class=\"dataframe\">\n",
       "  <thead>\n",
       "    <tr style=\"text-align: right;\">\n",
       "      <th></th>\n",
       "      <th>text</th>\n",
       "      <th>lang</th>\n",
       "    </tr>\n",
       "  </thead>\n",
       "  <tbody>\n",
       "    <tr>\n",
       "      <th>0</th>\n",
       "      <td>ABBYY (/ˈʌbɪ/) — международная компания-разраб...</td>\n",
       "      <td>1.0</td>\n",
       "    </tr>\n",
       "    <tr>\n",
       "      <th>1</th>\n",
       "      <td>Наиболее известные продукты — программа для ра...</td>\n",
       "      <td>1.0</td>\n",
       "    </tr>\n",
       "    <tr>\n",
       "      <th>2</th>\n",
       "      <td>Головные офисы ABBYY расположены в Москве, в С...</td>\n",
       "      <td>1.0</td>\n",
       "    </tr>\n",
       "    <tr>\n",
       "      <th>3</th>\n",
       "      <td>На 2020 год решения ABBYY используют более 50 ...</td>\n",
       "      <td>1.0</td>\n",
       "    </tr>\n",
       "    <tr>\n",
       "      <th>4</th>\n",
       "      <td>В апреле 2019 года консалтинговая и исследоват...</td>\n",
       "      <td>1.0</td>\n",
       "    </tr>\n",
       "  </tbody>\n",
       "</table>\n",
       "</div>"
      ],
      "text/plain": [
       "                                                text  lang\n",
       "0  ABBYY (/ˈʌbɪ/) — международная компания-разраб...   1.0\n",
       "1  Наиболее известные продукты — программа для ра...   1.0\n",
       "2  Головные офисы ABBYY расположены в Москве, в С...   1.0\n",
       "3  На 2020 год решения ABBYY используют более 50 ...   1.0\n",
       "4  В апреле 2019 года консалтинговая и исследоват...   1.0"
      ]
     },
     "execution_count": 235,
     "metadata": {},
     "output_type": "execute_result"
    }
   ],
   "source": [
    "wiki_train.head()"
   ]
  },
  {
   "cell_type": "code",
   "execution_count": 213,
   "metadata": {},
   "outputs": [],
   "source": [
    "from sklearn.feature_extraction.text import CountVectorizer\n",
    "\n",
    "vectorizer = CountVectorizer(max_features=1500)\n",
    "X_train = vectorizer.fit_transform(wiki_train['text']).toarray()\n",
    "X_test  = vectorizer.fit_transform(wiki_test['text']).toarray()\n",
    "y_train = wiki_train['lang']\n",
    "y_test = wiki_test['lang']\n",
    "y_train = y_train.astype('int')\n",
    "y_test = y_test.astype('int')"
   ]
  },
  {
   "cell_type": "code",
   "execution_count": 214,
   "metadata": {},
   "outputs": [],
   "source": [
    "from sklearn.linear_model import LogisticRegression\n",
    "\n",
    "model = LogisticRegression(random_state=42)\n",
    "model.fit(X_train, y_train)\n",
    "\n",
    "y_pred = model.predict(X_test)\n",
    "y_test = y_test.astype('int')"
   ]
  },
  {
   "cell_type": "code",
   "execution_count": 215,
   "metadata": {},
   "outputs": [
    {
     "name": "stdout",
     "output_type": "stream",
     "text": [
      "              precision    recall  f1-score   support\n",
      "\n",
      "           0       0.72      0.78      0.75      2904\n",
      "           1       0.49      0.42      0.45      1491\n",
      "\n",
      "    accuracy                           0.66      4395\n",
      "   macro avg       0.61      0.60      0.60      4395\n",
      "weighted avg       0.64      0.66      0.65      4395\n",
      "\n",
      "0.655745164960182\n",
      "0.4520101412531692\n"
     ]
    }
   ],
   "source": [
    "from sklearn.metrics import classification_report, confusion_matrix, accuracy_score, f1_score\n",
    "\n",
    "print(classification_report(y_test,y_pred))\n",
    "print(accuracy_score(y_test, y_pred))\n",
    "print(f1_score(y_test, y_pred))"
   ]
  },
  {
   "cell_type": "markdown",
   "metadata": {},
   "source": [
    "Как видно, метрики особо впечатляющих результатов работы модели не показали. Если потратить больше времени на парсинг и составление выборки страниц, то можно получить качество не хуже, чем полученное в предыдущих пунктах. Но от этой идеи пришлось отказаться в пользу уже размеченного датасета, чтобы больше времени уделить решению задачи и качеству решения."
   ]
  }
 ],
 "metadata": {
  "kernelspec": {
   "display_name": "Python 3",
   "language": "python",
   "name": "python3"
  },
  "language_info": {
   "codemirror_mode": {
    "name": "ipython",
    "version": 3
   },
   "file_extension": ".py",
   "mimetype": "text/x-python",
   "name": "python",
   "nbconvert_exporter": "python",
   "pygments_lexer": "ipython3",
   "version": "3.8.0"
  }
 },
 "nbformat": 4,
 "nbformat_minor": 2
}
